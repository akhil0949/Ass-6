{
 "cells": [
  {
   "cell_type": "code",
   "execution_count": null,
   "id": "33c372fb",
   "metadata": {},
   "outputs": [],
   "source": [
    "1. What are escape characters, and how do you use them?\n",
    "Ans)\n",
    "An escape character is a backslash \\ followed by the character you want to insert in to the string."
   ]
  },
  {
   "cell_type": "code",
   "execution_count": null,
   "id": "3b6bef9a",
   "metadata": {},
   "outputs": [],
   "source": [
    "2. What do the escape characters n and t stand for?\n",
    "Ans)\n",
    "n stands for new line\n",
    "t stand for tab"
   ]
  },
  {
   "cell_type": "code",
   "execution_count": null,
   "id": "fdab7369",
   "metadata": {},
   "outputs": [],
   "source": [
    "3. What is the way to include backslash characters in a string?\n",
    "Ans)\n",
    "double slash - \\\\"
   ]
  },
  {
   "cell_type": "code",
   "execution_count": null,
   "id": "def2d0a0",
   "metadata": {},
   "outputs": [],
   "source": [
    "4. The string \"howl's Moving Castle\" is a correct value. Why isnt the single quote character in the word hows not escaped from\n",
    "the problem.\n",
    "Ans)\n",
    "Because the string  is the combination of single and double quote."
   ]
  },
  {
   "cell_type": "code",
   "execution_count": null,
   "id": "f855245a",
   "metadata": {},
   "outputs": [],
   "source": [
    "5. How do you write a string of newlines if you dont want to use the n character?\n",
    "Ans)\n",
    "We need to add extra argument \"end\" to the print function."
   ]
  },
  {
   "cell_type": "code",
   "execution_count": null,
   "id": "ea3ac4eb",
   "metadata": {},
   "outputs": [],
   "source": [
    "6. What are the values of the given expressions?\n",
    "Ans)\n",
    "'hello,world'[1]   = 'e'\n",
    "'hello,world'[0:5] = 'hello'\n",
    "'hello,world'[:5]  = 'hello'\n",
    "'hello,world'[3:]  = 'lo,world'"
   ]
  },
  {
   "cell_type": "code",
   "execution_count": null,
   "id": "8d7bcedc",
   "metadata": {},
   "outputs": [],
   "source": [
    "7. What are the values of the following expressions?\n",
    "Ans)\n",
    "'hello'.upper() = 'HELLO'\n",
    "'hello'.upper().isupper() = \"True\"\n",
    "'hello'.upper().lower()   = 'hello'"
   ]
  },
  {
   "cell_type": "code",
   "execution_count": null,
   "id": "7bcd3a3f",
   "metadata": {},
   "outputs": [],
   "source": [
    "8. What are the values of the following expressions?\n",
    "Ans)\n",
    "'Remember, remember, the fifth of July.'.split() = ['Remember,', 'remember,', 'the', 'fifth', 'of', 'July.']\n",
    "'-'.join('there can only one.'.split())          = 'there-can-only-one.'"
   ]
  },
  {
   "cell_type": "code",
   "execution_count": null,
   "id": "4f29c2b7",
   "metadata": {},
   "outputs": [],
   "source": [
    "9. What are the methods for right-justifying, left-justifying, and centering a string?\n",
    "Ans)\n",
    "right-justifying = rjust() returns the string right to the string\n",
    "left-justifying  = ljust() returns the string left to the string\n",
    "centering a string = The center() method will add the character to the center of the string"
   ]
  },
  {
   "cell_type": "code",
   "execution_count": null,
   "id": "4d93a972",
   "metadata": {},
   "outputs": [],
   "source": [
    "10. What is the best way to remove whitespace characters from the start or end?\n",
    "Ans)\n",
    "whitespace will give the characters like space, tab, linefeed, return, formfeed, and vertical tab."
   ]
  }
 ],
 "metadata": {
  "kernelspec": {
   "display_name": "Python 3",
   "language": "python",
   "name": "python3"
  },
  "language_info": {
   "codemirror_mode": {
    "name": "ipython",
    "version": 3
   },
   "file_extension": ".py",
   "mimetype": "text/x-python",
   "name": "python",
   "nbconvert_exporter": "python",
   "pygments_lexer": "ipython3",
   "version": "3.6.13"
  }
 },
 "nbformat": 4,
 "nbformat_minor": 5
}
